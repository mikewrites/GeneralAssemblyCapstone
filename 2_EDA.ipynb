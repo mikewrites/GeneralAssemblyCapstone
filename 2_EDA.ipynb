{
 "cells": [
  {
   "cell_type": "code",
   "execution_count": null,
   "id": "44f814b6-41e5-4b7e-9501-352b886e34ae",
   "metadata": {
    "gradient": {
     "id": "44f814b6-41e5-4b7e-9501-352b886e34ae",
     "kernelId": "72e6b1b9-b89b-41df-8bd5-d0f15a0678c7"
    }
   },
   "outputs": [],
   "source": []
  }
 ],
 "metadata": {
  "kernelspec": {
   "display_name": "Python 3",
   "language": "python",
   "name": "python3"
  },
  "language_info": {
   "codemirror_mode": {
    "name": "ipython",
    "version": 3
   },
   "file_extension": ".py",
   "mimetype": "text/x-python",
   "name": "python",
   "nbconvert_exporter": "python",
   "pygments_lexer": "ipython3",
   "version": "3.7.10"
  }
 },
 "nbformat": 4,
 "nbformat_minor": 5
}
