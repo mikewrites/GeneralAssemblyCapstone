{
 "cells": [
  {
   "cell_type": "code",
   "execution_count": 1,
   "id": "e39b7f00-5703-4b64-9f9d-84c12d40a4de",
   "metadata": {
    "collapsed": false,
    "gradient": {
     "editing": false,
     "execution_count": 1,
     "id": "e39b7f00-5703-4b64-9f9d-84c12d40a4de",
     "kernelId": "",
     "source_hidden": false
    },
    "jupyter": {
     "outputs_hidden": false
    }
   },
   "outputs": [],
   "source": [
    "import geopandas as gpd"
   ]
  },
  {
   "cell_type": "code",
   "execution_count": 2,
   "id": "904058ea-d4ea-4e79-830b-be3f05f82b3a",
   "metadata": {
    "collapsed": false,
    "gradient": {
     "editing": false,
     "execution_count": 2,
     "id": "904058ea-d4ea-4e79-830b-be3f05f82b3a",
     "kernelId": "",
     "source_hidden": false
    },
    "jupyter": {
     "outputs_hidden": false
    }
   },
   "outputs": [],
   "source": [
    "us = gpd.read_file('Data/US_fixed.shp')"
   ]
  },
  {
   "cell_type": "code",
   "execution_count": 3,
   "id": "a3635909-53d2-4366-9686-4891cd9f08dd",
   "metadata": {
    "collapsed": false,
    "gradient": {
     "editing": false,
     "execution_count": 3,
     "id": "a3635909-53d2-4366-9686-4891cd9f08dd",
     "kernelId": "",
     "source_hidden": false
    },
    "jupyter": {
     "outputs_hidden": false
    }
   },
   "outputs": [],
   "source": [
    "states = us[['STATEFP', 'avg_d_kbps', 'avg_u_kbps', 'avg_lat_ms']].groupby('STATEFP').mean()"
   ]
  },
  {
   "cell_type": "code",
   "execution_count": 4,
   "id": "8ca78f5c-2aed-478b-a472-8df45eca1481",
   "metadata": {
    "collapsed": false,
    "gradient": {
     "editing": false,
     "execution_count": 4,
     "id": "8ca78f5c-2aed-478b-a472-8df45eca1481",
     "kernelId": "",
     "source_hidden": false
    },
    "jupyter": {
     "outputs_hidden": false
    }
   },
   "outputs": [
    {
     "data": {
      "text/html": [
       "<div>\n",
       "<style scoped>\n",
       "    .dataframe tbody tr th:only-of-type {\n",
       "        vertical-align: middle;\n",
       "    }\n",
       "\n",
       "    .dataframe tbody tr th {\n",
       "        vertical-align: top;\n",
       "    }\n",
       "\n",
       "    .dataframe thead th {\n",
       "        text-align: right;\n",
       "    }\n",
       "</style>\n",
       "<table border=\"1\" class=\"dataframe\">\n",
       "  <thead>\n",
       "    <tr style=\"text-align: right;\">\n",
       "      <th></th>\n",
       "      <th>avg_d_kbps</th>\n",
       "      <th>avg_u_kbps</th>\n",
       "      <th>avg_lat_ms</th>\n",
       "    </tr>\n",
       "    <tr>\n",
       "      <th>STATEFP</th>\n",
       "      <th></th>\n",
       "      <th></th>\n",
       "      <th></th>\n",
       "    </tr>\n",
       "  </thead>\n",
       "  <tbody>\n",
       "    <tr>\n",
       "      <th>01</th>\n",
       "      <td>92973.566568</td>\n",
       "      <td>31861.669395</td>\n",
       "      <td>56.531290</td>\n",
       "    </tr>\n",
       "    <tr>\n",
       "      <th>02</th>\n",
       "      <td>82159.577149</td>\n",
       "      <td>18233.922596</td>\n",
       "      <td>28.105330</td>\n",
       "    </tr>\n",
       "    <tr>\n",
       "      <th>04</th>\n",
       "      <td>94196.491220</td>\n",
       "      <td>20508.692968</td>\n",
       "      <td>42.668622</td>\n",
       "    </tr>\n",
       "    <tr>\n",
       "      <th>05</th>\n",
       "      <td>76625.262148</td>\n",
       "      <td>28594.584974</td>\n",
       "      <td>63.724063</td>\n",
       "    </tr>\n",
       "    <tr>\n",
       "      <th>06</th>\n",
       "      <td>113506.351358</td>\n",
       "      <td>25765.241946</td>\n",
       "      <td>42.563994</td>\n",
       "    </tr>\n",
       "    <tr>\n",
       "      <th>08</th>\n",
       "      <td>95286.950768</td>\n",
       "      <td>20852.361351</td>\n",
       "      <td>49.049130</td>\n",
       "    </tr>\n",
       "    <tr>\n",
       "      <th>09</th>\n",
       "      <td>128372.949851</td>\n",
       "      <td>16976.234914</td>\n",
       "      <td>20.467590</td>\n",
       "    </tr>\n",
       "    <tr>\n",
       "      <th>10</th>\n",
       "      <td>151774.953439</td>\n",
       "      <td>44191.924605</td>\n",
       "      <td>31.129359</td>\n",
       "    </tr>\n",
       "    <tr>\n",
       "      <th>11</th>\n",
       "      <td>145592.018310</td>\n",
       "      <td>59110.097183</td>\n",
       "      <td>14.490141</td>\n",
       "    </tr>\n",
       "    <tr>\n",
       "      <th>12</th>\n",
       "      <td>115594.660981</td>\n",
       "      <td>33664.700626</td>\n",
       "      <td>39.094669</td>\n",
       "    </tr>\n",
       "    <tr>\n",
       "      <th>13</th>\n",
       "      <td>107744.400785</td>\n",
       "      <td>35229.821960</td>\n",
       "      <td>37.895724</td>\n",
       "    </tr>\n",
       "    <tr>\n",
       "      <th>15</th>\n",
       "      <td>118417.526104</td>\n",
       "      <td>26332.309683</td>\n",
       "      <td>20.159304</td>\n",
       "    </tr>\n",
       "    <tr>\n",
       "      <th>16</th>\n",
       "      <td>55128.312975</td>\n",
       "      <td>15076.077405</td>\n",
       "      <td>54.679195</td>\n",
       "    </tr>\n",
       "    <tr>\n",
       "      <th>17</th>\n",
       "      <td>105000.662251</td>\n",
       "      <td>21292.886549</td>\n",
       "      <td>36.813349</td>\n",
       "    </tr>\n",
       "    <tr>\n",
       "      <th>18</th>\n",
       "      <td>99443.996932</td>\n",
       "      <td>32858.949124</td>\n",
       "      <td>50.061678</td>\n",
       "    </tr>\n",
       "    <tr>\n",
       "      <th>19</th>\n",
       "      <td>67565.321067</td>\n",
       "      <td>23592.671679</td>\n",
       "      <td>48.785514</td>\n",
       "    </tr>\n",
       "    <tr>\n",
       "      <th>20</th>\n",
       "      <td>83915.248477</td>\n",
       "      <td>31510.648693</td>\n",
       "      <td>40.754996</td>\n",
       "    </tr>\n",
       "    <tr>\n",
       "      <th>21</th>\n",
       "      <td>86186.238835</td>\n",
       "      <td>25910.113533</td>\n",
       "      <td>55.000935</td>\n",
       "    </tr>\n",
       "    <tr>\n",
       "      <th>22</th>\n",
       "      <td>99785.843103</td>\n",
       "      <td>28018.155040</td>\n",
       "      <td>61.337628</td>\n",
       "    </tr>\n",
       "    <tr>\n",
       "      <th>23</th>\n",
       "      <td>84175.540130</td>\n",
       "      <td>12050.868920</td>\n",
       "      <td>31.584530</td>\n",
       "    </tr>\n",
       "    <tr>\n",
       "      <th>24</th>\n",
       "      <td>140685.651479</td>\n",
       "      <td>55492.852747</td>\n",
       "      <td>27.978410</td>\n",
       "    </tr>\n",
       "    <tr>\n",
       "      <th>25</th>\n",
       "      <td>145788.634101</td>\n",
       "      <td>43195.257673</td>\n",
       "      <td>18.430433</td>\n",
       "    </tr>\n",
       "    <tr>\n",
       "      <th>26</th>\n",
       "      <td>94825.021534</td>\n",
       "      <td>17370.727640</td>\n",
       "      <td>45.211627</td>\n",
       "    </tr>\n",
       "    <tr>\n",
       "      <th>27</th>\n",
       "      <td>78068.165411</td>\n",
       "      <td>24553.855672</td>\n",
       "      <td>33.142555</td>\n",
       "    </tr>\n",
       "    <tr>\n",
       "      <th>28</th>\n",
       "      <td>75807.971927</td>\n",
       "      <td>27997.820098</td>\n",
       "      <td>87.195493</td>\n",
       "    </tr>\n",
       "    <tr>\n",
       "      <th>29</th>\n",
       "      <td>88115.121463</td>\n",
       "      <td>29559.700332</td>\n",
       "      <td>61.827887</td>\n",
       "    </tr>\n",
       "    <tr>\n",
       "      <th>30</th>\n",
       "      <td>58981.525730</td>\n",
       "      <td>13741.053100</td>\n",
       "      <td>56.999179</td>\n",
       "    </tr>\n",
       "    <tr>\n",
       "      <th>31</th>\n",
       "      <td>77619.489854</td>\n",
       "      <td>26616.643468</td>\n",
       "      <td>35.138244</td>\n",
       "    </tr>\n",
       "    <tr>\n",
       "      <th>32</th>\n",
       "      <td>104634.763892</td>\n",
       "      <td>25285.136022</td>\n",
       "      <td>26.227955</td>\n",
       "    </tr>\n",
       "    <tr>\n",
       "      <th>33</th>\n",
       "      <td>123925.863797</td>\n",
       "      <td>19855.719901</td>\n",
       "      <td>26.251306</td>\n",
       "    </tr>\n",
       "    <tr>\n",
       "      <th>34</th>\n",
       "      <td>152800.050884</td>\n",
       "      <td>52787.634337</td>\n",
       "      <td>16.336100</td>\n",
       "    </tr>\n",
       "    <tr>\n",
       "      <th>35</th>\n",
       "      <td>62859.789229</td>\n",
       "      <td>16241.298433</td>\n",
       "      <td>59.534081</td>\n",
       "    </tr>\n",
       "    <tr>\n",
       "      <th>36</th>\n",
       "      <td>111914.928976</td>\n",
       "      <td>34468.149316</td>\n",
       "      <td>30.971687</td>\n",
       "    </tr>\n",
       "    <tr>\n",
       "      <th>37</th>\n",
       "      <td>107807.001522</td>\n",
       "      <td>27538.394569</td>\n",
       "      <td>43.463854</td>\n",
       "    </tr>\n",
       "    <tr>\n",
       "      <th>38</th>\n",
       "      <td>90039.409490</td>\n",
       "      <td>41175.850313</td>\n",
       "      <td>16.203760</td>\n",
       "    </tr>\n",
       "    <tr>\n",
       "      <th>39</th>\n",
       "      <td>93303.644585</td>\n",
       "      <td>17421.405756</td>\n",
       "      <td>40.773794</td>\n",
       "    </tr>\n",
       "    <tr>\n",
       "      <th>40</th>\n",
       "      <td>78687.132799</td>\n",
       "      <td>36379.047549</td>\n",
       "      <td>65.106269</td>\n",
       "    </tr>\n",
       "    <tr>\n",
       "      <th>41</th>\n",
       "      <td>89410.924600</td>\n",
       "      <td>18542.793855</td>\n",
       "      <td>50.996885</td>\n",
       "    </tr>\n",
       "    <tr>\n",
       "      <th>42</th>\n",
       "      <td>113057.518892</td>\n",
       "      <td>28466.851436</td>\n",
       "      <td>33.626520</td>\n",
       "    </tr>\n",
       "    <tr>\n",
       "      <th>44</th>\n",
       "      <td>134304.188840</td>\n",
       "      <td>69008.123414</td>\n",
       "      <td>16.348578</td>\n",
       "    </tr>\n",
       "    <tr>\n",
       "      <th>45</th>\n",
       "      <td>103120.656036</td>\n",
       "      <td>26747.500749</td>\n",
       "      <td>43.509441</td>\n",
       "    </tr>\n",
       "    <tr>\n",
       "      <th>46</th>\n",
       "      <td>71691.712687</td>\n",
       "      <td>16810.166633</td>\n",
       "      <td>34.386813</td>\n",
       "    </tr>\n",
       "    <tr>\n",
       "      <th>47</th>\n",
       "      <td>109486.544077</td>\n",
       "      <td>45835.877565</td>\n",
       "      <td>43.639200</td>\n",
       "    </tr>\n",
       "    <tr>\n",
       "      <th>48</th>\n",
       "      <td>102089.664077</td>\n",
       "      <td>34372.101238</td>\n",
       "      <td>56.060789</td>\n",
       "    </tr>\n",
       "    <tr>\n",
       "      <th>49</th>\n",
       "      <td>94636.376107</td>\n",
       "      <td>29825.097186</td>\n",
       "      <td>29.875782</td>\n",
       "    </tr>\n",
       "    <tr>\n",
       "      <th>50</th>\n",
       "      <td>86119.453357</td>\n",
       "      <td>19792.704337</td>\n",
       "      <td>38.360547</td>\n",
       "    </tr>\n",
       "    <tr>\n",
       "      <th>51</th>\n",
       "      <td>114374.825603</td>\n",
       "      <td>39972.207502</td>\n",
       "      <td>51.287139</td>\n",
       "    </tr>\n",
       "    <tr>\n",
       "      <th>53</th>\n",
       "      <td>103453.113638</td>\n",
       "      <td>18975.845318</td>\n",
       "      <td>40.743572</td>\n",
       "    </tr>\n",
       "    <tr>\n",
       "      <th>54</th>\n",
       "      <td>92977.447179</td>\n",
       "      <td>12978.837642</td>\n",
       "      <td>57.794795</td>\n",
       "    </tr>\n",
       "    <tr>\n",
       "      <th>55</th>\n",
       "      <td>82573.275632</td>\n",
       "      <td>17371.155053</td>\n",
       "      <td>59.119964</td>\n",
       "    </tr>\n",
       "    <tr>\n",
       "      <th>56</th>\n",
       "      <td>57179.464932</td>\n",
       "      <td>14173.858481</td>\n",
       "      <td>43.005619</td>\n",
       "    </tr>\n",
       "    <tr>\n",
       "      <th>60</th>\n",
       "      <td>20094.578313</td>\n",
       "      <td>7146.903614</td>\n",
       "      <td>183.783133</td>\n",
       "    </tr>\n",
       "    <tr>\n",
       "      <th>66</th>\n",
       "      <td>31284.692308</td>\n",
       "      <td>6006.629696</td>\n",
       "      <td>20.615385</td>\n",
       "    </tr>\n",
       "    <tr>\n",
       "      <th>69</th>\n",
       "      <td>30910.051282</td>\n",
       "      <td>8839.117949</td>\n",
       "      <td>20.517949</td>\n",
       "    </tr>\n",
       "    <tr>\n",
       "      <th>72</th>\n",
       "      <td>41823.688167</td>\n",
       "      <td>8295.497607</td>\n",
       "      <td>50.810544</td>\n",
       "    </tr>\n",
       "    <tr>\n",
       "      <th>78</th>\n",
       "      <td>20577.547794</td>\n",
       "      <td>8165.227941</td>\n",
       "      <td>37.995098</td>\n",
       "    </tr>\n",
       "  </tbody>\n",
       "</table>\n",
       "</div>"
      ],
      "text/plain": [
       "            avg_d_kbps    avg_u_kbps  avg_lat_ms\n",
       "STATEFP                                         \n",
       "01        92973.566568  31861.669395   56.531290\n",
       "02        82159.577149  18233.922596   28.105330\n",
       "04        94196.491220  20508.692968   42.668622\n",
       "05        76625.262148  28594.584974   63.724063\n",
       "06       113506.351358  25765.241946   42.563994\n",
       "08        95286.950768  20852.361351   49.049130\n",
       "09       128372.949851  16976.234914   20.467590\n",
       "10       151774.953439  44191.924605   31.129359\n",
       "11       145592.018310  59110.097183   14.490141\n",
       "12       115594.660981  33664.700626   39.094669\n",
       "13       107744.400785  35229.821960   37.895724\n",
       "15       118417.526104  26332.309683   20.159304\n",
       "16        55128.312975  15076.077405   54.679195\n",
       "17       105000.662251  21292.886549   36.813349\n",
       "18        99443.996932  32858.949124   50.061678\n",
       "19        67565.321067  23592.671679   48.785514\n",
       "20        83915.248477  31510.648693   40.754996\n",
       "21        86186.238835  25910.113533   55.000935\n",
       "22        99785.843103  28018.155040   61.337628\n",
       "23        84175.540130  12050.868920   31.584530\n",
       "24       140685.651479  55492.852747   27.978410\n",
       "25       145788.634101  43195.257673   18.430433\n",
       "26        94825.021534  17370.727640   45.211627\n",
       "27        78068.165411  24553.855672   33.142555\n",
       "28        75807.971927  27997.820098   87.195493\n",
       "29        88115.121463  29559.700332   61.827887\n",
       "30        58981.525730  13741.053100   56.999179\n",
       "31        77619.489854  26616.643468   35.138244\n",
       "32       104634.763892  25285.136022   26.227955\n",
       "33       123925.863797  19855.719901   26.251306\n",
       "34       152800.050884  52787.634337   16.336100\n",
       "35        62859.789229  16241.298433   59.534081\n",
       "36       111914.928976  34468.149316   30.971687\n",
       "37       107807.001522  27538.394569   43.463854\n",
       "38        90039.409490  41175.850313   16.203760\n",
       "39        93303.644585  17421.405756   40.773794\n",
       "40        78687.132799  36379.047549   65.106269\n",
       "41        89410.924600  18542.793855   50.996885\n",
       "42       113057.518892  28466.851436   33.626520\n",
       "44       134304.188840  69008.123414   16.348578\n",
       "45       103120.656036  26747.500749   43.509441\n",
       "46        71691.712687  16810.166633   34.386813\n",
       "47       109486.544077  45835.877565   43.639200\n",
       "48       102089.664077  34372.101238   56.060789\n",
       "49        94636.376107  29825.097186   29.875782\n",
       "50        86119.453357  19792.704337   38.360547\n",
       "51       114374.825603  39972.207502   51.287139\n",
       "53       103453.113638  18975.845318   40.743572\n",
       "54        92977.447179  12978.837642   57.794795\n",
       "55        82573.275632  17371.155053   59.119964\n",
       "56        57179.464932  14173.858481   43.005619\n",
       "60        20094.578313   7146.903614  183.783133\n",
       "66        31284.692308   6006.629696   20.615385\n",
       "69        30910.051282   8839.117949   20.517949\n",
       "72        41823.688167   8295.497607   50.810544\n",
       "78        20577.547794   8165.227941   37.995098"
      ]
     },
     "execution_count": 4,
     "metadata": {},
     "output_type": "execute_result"
    }
   ],
   "source": [
    "states"
   ]
  },
  {
   "cell_type": "code",
   "execution_count": 5,
   "id": "f54881d4-13e2-48f2-a303-8b299ab74570",
   "metadata": {
    "collapsed": false,
    "gradient": {
     "editing": false,
     "execution_count": 5,
     "id": "f54881d4-13e2-48f2-a303-8b299ab74570",
     "kernelId": "",
     "source_hidden": false
    },
    "jupyter": {
     "outputs_hidden": false
    }
   },
   "outputs": [],
   "source": [
    "label = gpd.read_file('https://www2.census.gov/geo/tiger/GENZ2019/shp/cb_2019_us_state_500k.zip')"
   ]
  },
  {
   "cell_type": "code",
   "execution_count": 6,
   "id": "ad466098-8c41-43a6-a382-6358fac9c256",
   "metadata": {
    "collapsed": false,
    "gradient": {
     "editing": false,
     "execution_count": 6,
     "id": "ad466098-8c41-43a6-a382-6358fac9c256",
     "kernelId": "",
     "source_hidden": false
    },
    "jupyter": {
     "outputs_hidden": false
    }
   },
   "outputs": [],
   "source": [
    "label.set_index('STATEFP', inplace = True)"
   ]
  },
  {
   "cell_type": "code",
   "execution_count": 7,
   "id": "078927be-2181-4528-93d1-0623e3f8868d",
   "metadata": {
    "collapsed": false,
    "gradient": {
     "editing": false,
     "execution_count": 7,
     "id": "078927be-2181-4528-93d1-0623e3f8868d",
     "kernelId": "",
     "source_hidden": false
    },
    "jupyter": {
     "outputs_hidden": false
    }
   },
   "outputs": [],
   "source": [
    "labels = label[['NAME']]"
   ]
  },
  {
   "cell_type": "code",
   "execution_count": 8,
   "id": "6c3be8c9-d454-46c0-a494-e11e34b666dd",
   "metadata": {
    "collapsed": false,
    "gradient": {
     "editing": false,
     "execution_count": 8,
     "id": "6c3be8c9-d454-46c0-a494-e11e34b666dd",
     "kernelId": "",
     "source_hidden": false
    },
    "jupyter": {
     "outputs_hidden": false
    }
   },
   "outputs": [],
   "source": [
    "states = states.join(labels)"
   ]
  },
  {
   "cell_type": "code",
   "execution_count": 9,
   "id": "16ede19f-cb98-4ab6-b283-57e143696f09",
   "metadata": {
    "gradient": {
     "editing": false,
     "execution_count": 9,
     "id": "16ede19f-cb98-4ab6-b283-57e143696f09",
     "kernelId": ""
    }
   },
   "outputs": [
    {
     "data": {
      "text/html": [
       "<div>\n",
       "<style scoped>\n",
       "    .dataframe tbody tr th:only-of-type {\n",
       "        vertical-align: middle;\n",
       "    }\n",
       "\n",
       "    .dataframe tbody tr th {\n",
       "        vertical-align: top;\n",
       "    }\n",
       "\n",
       "    .dataframe thead th {\n",
       "        text-align: right;\n",
       "    }\n",
       "</style>\n",
       "<table border=\"1\" class=\"dataframe\">\n",
       "  <thead>\n",
       "    <tr style=\"text-align: right;\">\n",
       "      <th></th>\n",
       "      <th>avg_d_kbps</th>\n",
       "      <th>avg_u_kbps</th>\n",
       "      <th>avg_lat_ms</th>\n",
       "      <th>NAME</th>\n",
       "    </tr>\n",
       "    <tr>\n",
       "      <th>STATEFP</th>\n",
       "      <th></th>\n",
       "      <th></th>\n",
       "      <th></th>\n",
       "      <th></th>\n",
       "    </tr>\n",
       "  </thead>\n",
       "  <tbody>\n",
       "    <tr>\n",
       "      <th>01</th>\n",
       "      <td>92973.566568</td>\n",
       "      <td>31861.669395</td>\n",
       "      <td>56.531290</td>\n",
       "      <td>Alabama</td>\n",
       "    </tr>\n",
       "    <tr>\n",
       "      <th>02</th>\n",
       "      <td>82159.577149</td>\n",
       "      <td>18233.922596</td>\n",
       "      <td>28.105330</td>\n",
       "      <td>Alaska</td>\n",
       "    </tr>\n",
       "    <tr>\n",
       "      <th>04</th>\n",
       "      <td>94196.491220</td>\n",
       "      <td>20508.692968</td>\n",
       "      <td>42.668622</td>\n",
       "      <td>Arizona</td>\n",
       "    </tr>\n",
       "    <tr>\n",
       "      <th>05</th>\n",
       "      <td>76625.262148</td>\n",
       "      <td>28594.584974</td>\n",
       "      <td>63.724063</td>\n",
       "      <td>Arkansas</td>\n",
       "    </tr>\n",
       "    <tr>\n",
       "      <th>06</th>\n",
       "      <td>113506.351358</td>\n",
       "      <td>25765.241946</td>\n",
       "      <td>42.563994</td>\n",
       "      <td>California</td>\n",
       "    </tr>\n",
       "  </tbody>\n",
       "</table>\n",
       "</div>"
      ],
      "text/plain": [
       "            avg_d_kbps    avg_u_kbps  avg_lat_ms        NAME\n",
       "STATEFP                                                     \n",
       "01        92973.566568  31861.669395   56.531290     Alabama\n",
       "02        82159.577149  18233.922596   28.105330      Alaska\n",
       "04        94196.491220  20508.692968   42.668622     Arizona\n",
       "05        76625.262148  28594.584974   63.724063    Arkansas\n",
       "06       113506.351358  25765.241946   42.563994  California"
      ]
     },
     "execution_count": 9,
     "metadata": {},
     "output_type": "execute_result"
    }
   ],
   "source": [
    "states.head()"
   ]
  },
  {
   "cell_type": "code",
   "execution_count": 10,
   "id": "0c40636e-01ac-4cd2-9b38-0a45282780af",
   "metadata": {
    "collapsed": false,
    "gradient": {
     "editing": false,
     "execution_count": 10,
     "id": "0c40636e-01ac-4cd2-9b38-0a45282780af",
     "kernelId": "",
     "source_hidden": false
    },
    "jupyter": {
     "outputs_hidden": false
    }
   },
   "outputs": [
    {
     "name": "stdout",
     "output_type": "stream",
     "text": [
      "Collecting plotly\n",
      "  Downloading plotly-5.4.0-py2.py3-none-any.whl (25.3 MB)\n",
      "\u001b[K     |████████████████████████████████| 25.3 MB 24.6 MB/s eta 0:00:01\n",
      "\u001b[?25hRequirement already satisfied: six in /opt/conda/envs/rapids/lib/python3.7/site-packages (from plotly) (1.16.0)\n",
      "Collecting tenacity>=6.2.0\n",
      "  Downloading tenacity-8.0.1-py3-none-any.whl (24 kB)\n",
      "Installing collected packages: tenacity, plotly\n",
      "Successfully installed plotly-5.4.0 tenacity-8.0.1\n",
      "\u001b[33mWARNING: Running pip as the 'root' user can result in broken permissions and conflicting behaviour with the system package manager. It is recommended to use a virtual environment instead: https://pip.pypa.io/warnings/venv\u001b[0m\n"
     ]
    }
   ],
   "source": [
    "!pip install plotly\n",
    "import matplotlib.pyplot as plt"
   ]
  },
  {
   "cell_type": "code",
   "execution_count": 11,
   "id": "6da66072-acfe-4b8b-a557-0998246b9b89",
   "metadata": {
    "collapsed": false,
    "gradient": {
     "editing": false,
     "execution_count": 11,
     "id": "6da66072-acfe-4b8b-a557-0998246b9b89",
     "kernelId": "",
     "source_hidden": false
    },
    "jupyter": {
     "outputs_hidden": false
    }
   },
   "outputs": [],
   "source": [
    "import plotly\n",
    "import plotly.express as px"
   ]
  },
  {
   "cell_type": "code",
   "execution_count": 12,
   "id": "22b82104-b045-440b-af77-552af56186d4",
   "metadata": {
    "collapsed": false,
    "gradient": {
     "editing": false,
     "execution_count": 38,
     "id": "22b82104-b045-440b-af77-552af56186d4",
     "kernelId": "",
     "source_hidden": false
    },
    "jupyter": {
     "outputs_hidden": false
    }
   },
   "outputs": [
    {
     "ename": "ValueError",
     "evalue": "Value of 'color' is not the name of a column in 'data_frame'. Expected one of ['avg_d_kbps', 'avg_u_kbps', 'avg_lat_ms', 'NAME'] but received: avg_d_kpbs",
     "output_type": "error",
     "traceback": [
      "\u001b[0;31m---------------------------------------------------------------------------\u001b[0m",
      "\u001b[0;31mValueError\u001b[0m                                Traceback (most recent call last)",
      "\u001b[0;32m<ipython-input-12-b9ef1c07dfb0>\u001b[0m in \u001b[0;36m<module>\u001b[0;34m\u001b[0m\n\u001b[1;32m      1\u001b[0m px.choropleth(states,title = 'Download Speeds by State', color_continuous_scale=\"Bluered_r\",\n\u001b[0;32m----> 2\u001b[0;31m              color='avg_d_kpbs', scope=\"usa\")\n\u001b[0m",
      "\u001b[0;32m/opt/conda/envs/rapids/lib/python3.7/site-packages/plotly/express/_chart_types.py\u001b[0m in \u001b[0;36mchoropleth\u001b[0;34m(data_frame, lat, lon, locations, locationmode, geojson, featureidkey, color, facet_row, facet_col, facet_col_wrap, facet_row_spacing, facet_col_spacing, hover_name, hover_data, custom_data, animation_frame, animation_group, category_orders, labels, color_discrete_sequence, color_discrete_map, color_continuous_scale, range_color, color_continuous_midpoint, projection, scope, center, fitbounds, basemap_visible, title, template, width, height)\u001b[0m\n\u001b[1;32m   1074\u001b[0m         \u001b[0margs\u001b[0m\u001b[0;34m=\u001b[0m\u001b[0mlocals\u001b[0m\u001b[0;34m(\u001b[0m\u001b[0;34m)\u001b[0m\u001b[0;34m,\u001b[0m\u001b[0;34m\u001b[0m\u001b[0;34m\u001b[0m\u001b[0m\n\u001b[1;32m   1075\u001b[0m         \u001b[0mconstructor\u001b[0m\u001b[0;34m=\u001b[0m\u001b[0mgo\u001b[0m\u001b[0;34m.\u001b[0m\u001b[0mChoropleth\u001b[0m\u001b[0;34m,\u001b[0m\u001b[0;34m\u001b[0m\u001b[0;34m\u001b[0m\u001b[0m\n\u001b[0;32m-> 1076\u001b[0;31m         \u001b[0mtrace_patch\u001b[0m\u001b[0;34m=\u001b[0m\u001b[0mdict\u001b[0m\u001b[0;34m(\u001b[0m\u001b[0mlocationmode\u001b[0m\u001b[0;34m=\u001b[0m\u001b[0mlocationmode\u001b[0m\u001b[0;34m)\u001b[0m\u001b[0;34m,\u001b[0m\u001b[0;34m\u001b[0m\u001b[0;34m\u001b[0m\u001b[0m\n\u001b[0m\u001b[1;32m   1077\u001b[0m     )\n\u001b[1;32m   1078\u001b[0m \u001b[0;34m\u001b[0m\u001b[0m\n",
      "\u001b[0;32m/opt/conda/envs/rapids/lib/python3.7/site-packages/plotly/express/_core.py\u001b[0m in \u001b[0;36mmake_figure\u001b[0;34m(args, constructor, trace_patch, layout_patch)\u001b[0m\n\u001b[1;32m   1931\u001b[0m     \u001b[0mapply_default_cascade\u001b[0m\u001b[0;34m(\u001b[0m\u001b[0margs\u001b[0m\u001b[0;34m)\u001b[0m\u001b[0;34m\u001b[0m\u001b[0;34m\u001b[0m\u001b[0m\n\u001b[1;32m   1932\u001b[0m \u001b[0;34m\u001b[0m\u001b[0m\n\u001b[0;32m-> 1933\u001b[0;31m     \u001b[0margs\u001b[0m \u001b[0;34m=\u001b[0m \u001b[0mbuild_dataframe\u001b[0m\u001b[0;34m(\u001b[0m\u001b[0margs\u001b[0m\u001b[0;34m,\u001b[0m \u001b[0mconstructor\u001b[0m\u001b[0;34m)\u001b[0m\u001b[0;34m\u001b[0m\u001b[0;34m\u001b[0m\u001b[0m\n\u001b[0m\u001b[1;32m   1934\u001b[0m     \u001b[0;32mif\u001b[0m \u001b[0mconstructor\u001b[0m \u001b[0;32min\u001b[0m \u001b[0;34m[\u001b[0m\u001b[0mgo\u001b[0m\u001b[0;34m.\u001b[0m\u001b[0mTreemap\u001b[0m\u001b[0;34m,\u001b[0m \u001b[0mgo\u001b[0m\u001b[0;34m.\u001b[0m\u001b[0mSunburst\u001b[0m\u001b[0;34m,\u001b[0m \u001b[0mgo\u001b[0m\u001b[0;34m.\u001b[0m\u001b[0mIcicle\u001b[0m\u001b[0;34m]\u001b[0m \u001b[0;32mand\u001b[0m \u001b[0margs\u001b[0m\u001b[0;34m[\u001b[0m\u001b[0;34m\"path\"\u001b[0m\u001b[0;34m]\u001b[0m \u001b[0;32mis\u001b[0m \u001b[0;32mnot\u001b[0m \u001b[0;32mNone\u001b[0m\u001b[0;34m:\u001b[0m\u001b[0;34m\u001b[0m\u001b[0;34m\u001b[0m\u001b[0m\n\u001b[1;32m   1935\u001b[0m         \u001b[0margs\u001b[0m \u001b[0;34m=\u001b[0m \u001b[0mprocess_dataframe_hierarchy\u001b[0m\u001b[0;34m(\u001b[0m\u001b[0margs\u001b[0m\u001b[0;34m)\u001b[0m\u001b[0;34m\u001b[0m\u001b[0;34m\u001b[0m\u001b[0m\n",
      "\u001b[0;32m/opt/conda/envs/rapids/lib/python3.7/site-packages/plotly/express/_core.py\u001b[0m in \u001b[0;36mbuild_dataframe\u001b[0;34m(args, constructor)\u001b[0m\n\u001b[1;32m   1404\u001b[0m \u001b[0;34m\u001b[0m\u001b[0m\n\u001b[1;32m   1405\u001b[0m     df_output, wide_id_vars = process_args_into_dataframe(\n\u001b[0;32m-> 1406\u001b[0;31m         \u001b[0margs\u001b[0m\u001b[0;34m,\u001b[0m \u001b[0mwide_mode\u001b[0m\u001b[0;34m,\u001b[0m \u001b[0mvar_name\u001b[0m\u001b[0;34m,\u001b[0m \u001b[0mvalue_name\u001b[0m\u001b[0;34m\u001b[0m\u001b[0;34m\u001b[0m\u001b[0m\n\u001b[0m\u001b[1;32m   1407\u001b[0m     )\n\u001b[1;32m   1408\u001b[0m \u001b[0;34m\u001b[0m\u001b[0m\n",
      "\u001b[0;32m/opt/conda/envs/rapids/lib/python3.7/site-packages/plotly/express/_core.py\u001b[0m in \u001b[0;36mprocess_args_into_dataframe\u001b[0;34m(args, wide_mode, var_name, value_name)\u001b[0m\n\u001b[1;32m   1205\u001b[0m                         \u001b[0;32mif\u001b[0m \u001b[0margument\u001b[0m \u001b[0;34m==\u001b[0m \u001b[0;34m\"index\"\u001b[0m\u001b[0;34m:\u001b[0m\u001b[0;34m\u001b[0m\u001b[0;34m\u001b[0m\u001b[0m\n\u001b[1;32m   1206\u001b[0m                             \u001b[0merr_msg\u001b[0m \u001b[0;34m+=\u001b[0m \u001b[0;34m\"\\n To use the index, pass it in directly as `df.index`.\"\u001b[0m\u001b[0;34m\u001b[0m\u001b[0;34m\u001b[0m\u001b[0m\n\u001b[0;32m-> 1207\u001b[0;31m                         \u001b[0;32mraise\u001b[0m \u001b[0mValueError\u001b[0m\u001b[0;34m(\u001b[0m\u001b[0merr_msg\u001b[0m\u001b[0;34m)\u001b[0m\u001b[0;34m\u001b[0m\u001b[0;34m\u001b[0m\u001b[0m\n\u001b[0m\u001b[1;32m   1208\u001b[0m                 \u001b[0;32melif\u001b[0m \u001b[0mlength\u001b[0m \u001b[0;32mand\u001b[0m \u001b[0mlen\u001b[0m\u001b[0;34m(\u001b[0m\u001b[0mdf_input\u001b[0m\u001b[0;34m[\u001b[0m\u001b[0margument\u001b[0m\u001b[0;34m]\u001b[0m\u001b[0;34m)\u001b[0m \u001b[0;34m!=\u001b[0m \u001b[0mlength\u001b[0m\u001b[0;34m:\u001b[0m\u001b[0;34m\u001b[0m\u001b[0;34m\u001b[0m\u001b[0m\n\u001b[1;32m   1209\u001b[0m                     raise ValueError(\n",
      "\u001b[0;31mValueError\u001b[0m: Value of 'color' is not the name of a column in 'data_frame'. Expected one of ['avg_d_kbps', 'avg_u_kbps', 'avg_lat_ms', 'NAME'] but received: avg_d_kpbs"
     ]
    }
   ],
   "source": [
    "px.choropleth(states,title = 'Download Speeds by State', color_continuous_scale=\"Bluered_r\",\n",
    "             color='avg_d_kpbs', scope=\"usa\")"
   ]
  },
  {
   "cell_type": "code",
   "execution_count": null,
   "id": "65e54c6b-cbf0-42aa-8a27-3fa2e8ad5a61",
   "metadata": {
    "gradient": {
     "execution_count": 22,
     "id": "65e54c6b-cbf0-42aa-8a27-3fa2e8ad5a61",
     "kernelId": ""
    }
   },
   "outputs": [],
   "source": [
    "states['NAME']"
   ]
  },
  {
   "cell_type": "code",
   "execution_count": null,
   "id": "a9f75f47-c976-4a43-9ebc-2d80bfeef3b0",
   "metadata": {
    "gradient": {
     "execution_count": 25,
     "id": "a9f75f47-c976-4a43-9ebc-2d80bfeef3b0",
     "kernelId": ""
    }
   },
   "outputs": [],
   "source": [
    "px.choropleth"
   ]
  },
  {
   "cell_type": "code",
   "execution_count": null,
   "id": "13d9ca26-a616-4df0-b05a-29f1e377fa65",
   "metadata": {
    "gradient": {
     "execution_count": 32,
     "id": "13d9ca26-a616-4df0-b05a-29f1e377fa65",
     "kernelId": ""
    }
   },
   "outputs": [],
   "source": [
    "us.head()"
   ]
  },
  {
   "cell_type": "code",
   "execution_count": null,
   "id": "a007b10b-c836-43ee-ad27-0f2ba64a9e5c",
   "metadata": {
    "gradient": {
     "execution_count": 33,
     "id": "a007b10b-c836-43ee-ad27-0f2ba64a9e5c",
     "kernelId": ""
    }
   },
   "outputs": [],
   "source": [
    "us.plot()"
   ]
  },
  {
   "cell_type": "code",
   "execution_count": null,
   "id": "3eec54e3-076b-4b88-9921-f34a38b6df41",
   "metadata": {
    "gradient": {
     "execution_count": 13,
     "id": "3eec54e3-076b-4b88-9921-f34a38b6df41",
     "kernelId": ""
    }
   },
   "outputs": [],
   "source": [
    "def statenames(value):\n",
    "    name = states.loc[value, 'NAME']\n",
    "    return name"
   ]
  },
  {
   "cell_type": "code",
   "execution_count": null,
   "id": "ea6deed2-0f44-41ae-8b59-e8af0e8ccb6f",
   "metadata": {
    "gradient": {
     "execution_count": 14,
     "id": "ea6deed2-0f44-41ae-8b59-e8af0e8ccb6f",
     "kernelId": ""
    }
   },
   "outputs": [],
   "source": [
    "us['statename']= us['STATEFP'].apply(lambda x : statenames(x))"
   ]
  },
  {
   "cell_type": "code",
   "execution_count": null,
   "id": "165123d0-20db-4c5c-abd9-11b46ebab9c0",
   "metadata": {
    "gradient": {
     "execution_count": 15,
     "id": "165123d0-20db-4c5c-abd9-11b46ebab9c0",
     "kernelId": ""
    }
   },
   "outputs": [],
   "source": [
    "us.head()"
   ]
  },
  {
   "cell_type": "code",
   "execution_count": null,
   "id": "62b6db08-3c6c-4155-b7ab-a8c8702fab7d",
   "metadata": {
    "gradient": {
     "execution_count": 16,
     "id": "62b6db08-3c6c-4155-b7ab-a8c8702fab7d",
     "kernelId": ""
    }
   },
   "outputs": [],
   "source": [
    "counties_by_state = {}\n",
    "for state in us['statename'].unique():\n",
    "    counties_by_state[state] = us[['avg_d_kbps', 'avg_u_kbps', 'avg_lat_ms', 'NAME', 'statename']].loc[us['statename'] == state]\n",
    "    "
   ]
  },
  {
   "cell_type": "code",
   "execution_count": null,
   "id": "213e1054-a9c7-48e0-8b28-4f24a3ddad7f",
   "metadata": {
    "gradient": {
     "execution_count": 17,
     "id": "213e1054-a9c7-48e0-8b28-4f24a3ddad7f",
     "kernelId": ""
    }
   },
   "outputs": [],
   "source": [
    "us['statename'].unique()"
   ]
  },
  {
   "cell_type": "code",
   "execution_count": null,
   "id": "5cbdc784-4d55-4be6-9e05-544c4ddc3484",
   "metadata": {
    "gradient": {
     "execution_count": 18,
     "id": "5cbdc784-4d55-4be6-9e05-544c4ddc3484",
     "kernelId": ""
    }
   },
   "outputs": [],
   "source": [
    "counties_by_state.keys()"
   ]
  },
  {
   "cell_type": "code",
   "execution_count": null,
   "id": "bd4e9f7e-f0c1-435a-968e-62893e88f9c4",
   "metadata": {
    "gradient": {
     "execution_count": 19,
     "id": "bd4e9f7e-f0c1-435a-968e-62893e88f9c4",
     "kernelId": ""
    }
   },
   "outputs": [],
   "source": [
    "ny = counties_by_state['New York'].groupby('NAME').mean()"
   ]
  },
  {
   "cell_type": "code",
   "execution_count": null,
   "id": "ed703868-dbd0-4f69-a1f5-8bf54d793f3b",
   "metadata": {
    "gradient": {
     "execution_count": 20,
     "id": "ed703868-dbd0-4f69-a1f5-8bf54d793f3b",
     "kernelId": ""
    }
   },
   "outputs": [],
   "source": [
    "ny = gpd.GeoDataFrame(ny)"
   ]
  },
  {
   "cell_type": "code",
   "execution_count": null,
   "id": "ca13991f-f3ac-4a66-9a89-5f3883c72e0b",
   "metadata": {
    "gradient": {
     "execution_count": 21,
     "id": "ca13991f-f3ac-4a66-9a89-5f3883c72e0b",
     "kernelId": ""
    }
   },
   "outputs": [],
   "source": [
    "import seaborn as sns"
   ]
  },
  {
   "cell_type": "code",
   "execution_count": null,
   "id": "c7751f47-0424-4706-95cf-8c0adf49585a",
   "metadata": {
    "gradient": {
     "execution_count": 35,
     "id": "c7751f47-0424-4706-95cf-8c0adf49585a",
     "kernelId": ""
    }
   },
   "outputs": [],
   "source": [
    "geoj = tee['geometry']"
   ]
  },
  {
   "cell_type": "code",
   "execution_count": null,
   "id": "12c8a7b8-61dc-4276-986f-e09a514012bf",
   "metadata": {
    "gradient": {
     "execution_count": 36,
     "id": "12c8a7b8-61dc-4276-986f-e09a514012bf",
     "kernelId": ""
    }
   },
   "outputs": [],
   "source": []
  },
  {
   "cell_type": "code",
   "execution_count": null,
   "id": "e0a958ec-042b-46a1-8d99-62b8ff2b8208",
   "metadata": {
    "gradient": {
     "execution_count": 22,
     "id": "e0a958ec-042b-46a1-8d99-62b8ff2b8208",
     "kernelId": ""
    }
   },
   "outputs": [],
   "source": [
    "county_url = \"https://www2.census.gov/geo/tiger/TIGER2019/COUNTY/tl_2019_us_county.zip\" "
   ]
  },
  {
   "cell_type": "code",
   "execution_count": null,
   "id": "9cf9e0d1-3197-4912-aefe-17f428673f86",
   "metadata": {
    "gradient": {
     "execution_count": 23,
     "id": "9cf9e0d1-3197-4912-aefe-17f428673f86",
     "kernelId": ""
    }
   },
   "outputs": [],
   "source": [
    "counties = gpd.read_file(county_url)"
   ]
  },
  {
   "cell_type": "code",
   "execution_count": null,
   "id": "7d896f34-dd22-425c-9078-a4fadf7bfb4e",
   "metadata": {
    "gradient": {
     "execution_count": 24,
     "id": "7d896f34-dd22-425c-9078-a4fadf7bfb4e",
     "kernelId": ""
    }
   },
   "outputs": [],
   "source": [
    "counties.head()"
   ]
  },
  {
   "cell_type": "code",
   "execution_count": null,
   "id": "20b74547-679d-458c-b7fe-4cdf1f9e953f",
   "metadata": {
    "gradient": {
     "execution_count": 25,
     "id": "20b74547-679d-458c-b7fe-4cdf1f9e953f",
     "kernelId": ""
    }
   },
   "outputs": [],
   "source": [
    "snames = states[['NAME']].copy()"
   ]
  },
  {
   "cell_type": "code",
   "execution_count": null,
   "id": "dd468955-f5d7-4193-b83b-189942645c0e",
   "metadata": {
    "gradient": {
     "execution_count": 26,
     "id": "dd468955-f5d7-4193-b83b-189942645c0e",
     "kernelId": ""
    }
   },
   "outputs": [],
   "source": [
    "snames.rename(columns = {'NAME': 'STATENAME'}, inplace = True)"
   ]
  },
  {
   "cell_type": "code",
   "execution_count": null,
   "id": "ec98a9c7-4d76-46c9-a221-2153af7de5f1",
   "metadata": {
    "gradient": {
     "execution_count": 27,
     "id": "ec98a9c7-4d76-46c9-a221-2153af7de5f1",
     "kernelId": ""
    }
   },
   "outputs": [],
   "source": [
    "snames.info()"
   ]
  },
  {
   "cell_type": "code",
   "execution_count": null,
   "id": "c7c49cb6-330e-4977-8610-e941391e264e",
   "metadata": {
    "gradient": {
     "execution_count": 28,
     "id": "c7c49cb6-330e-4977-8610-e941391e264e",
     "kernelId": ""
    }
   },
   "outputs": [],
   "source": [
    "counties = counties.join(snames, on = 'STATEFP')"
   ]
  },
  {
   "cell_type": "code",
   "execution_count": null,
   "id": "5bb0b4b0-716f-43b8-928d-35c8f46cc04a",
   "metadata": {
    "gradient": {
     "execution_count": 29,
     "id": "5bb0b4b0-716f-43b8-928d-35c8f46cc04a",
     "kernelId": ""
    }
   },
   "outputs": [],
   "source": [
    "counties.head()"
   ]
  },
  {
   "cell_type": "code",
   "execution_count": null,
   "id": "5f8477d1-4fea-46df-be73-768e9212f22f",
   "metadata": {
    "gradient": {
     "execution_count": 30,
     "id": "5f8477d1-4fea-46df-be73-768e9212f22f",
     "kernelId": ""
    }
   },
   "outputs": [],
   "source": [
    "ny_counties = counties.loc[counties['STATENAME']=='New York']"
   ]
  },
  {
   "cell_type": "code",
   "execution_count": null,
   "id": "eb2fe241-7030-4dd1-935a-d8bdcbfb724a",
   "metadata": {
    "gradient": {
     "execution_count": 31,
     "id": "eb2fe241-7030-4dd1-935a-d8bdcbfb724a",
     "kernelId": ""
    }
   },
   "outputs": [],
   "source": [
    "ny_counties"
   ]
  },
  {
   "cell_type": "code",
   "execution_count": null,
   "id": "2f149ec3-78c8-420e-9e0f-524922a92859",
   "metadata": {
    "gradient": {
     "execution_count": 32,
     "id": "2f149ec3-78c8-420e-9e0f-524922a92859",
     "kernelId": ""
    }
   },
   "outputs": [],
   "source": [
    "ny_counties.set_index('NAME', inplace = True)"
   ]
  },
  {
   "cell_type": "code",
   "execution_count": null,
   "id": "7c4ff56a-1ecc-40d6-aa2b-596676489d65",
   "metadata": {
    "gradient": {
     "execution_count": 33,
     "id": "7c4ff56a-1ecc-40d6-aa2b-596676489d65",
     "kernelId": ""
    }
   },
   "outputs": [],
   "source": [
    "ny_geo = ny_counties[['geometry']]"
   ]
  },
  {
   "cell_type": "code",
   "execution_count": null,
   "id": "bb675a76-840d-460a-94ba-b0feeb8e6224",
   "metadata": {
    "gradient": {
     "execution_count": 34,
     "id": "bb675a76-840d-460a-94ba-b0feeb8e6224",
     "kernelId": ""
    }
   },
   "outputs": [],
   "source": [
    "ny = ny.join(ny_geo)"
   ]
  },
  {
   "cell_type": "code",
   "execution_count": null,
   "id": "ec7721a5-6210-4e11-8a25-d7e97fa7c02c",
   "metadata": {
    "gradient": {
     "execution_count": 35,
     "id": "ec7721a5-6210-4e11-8a25-d7e97fa7c02c",
     "kernelId": ""
    }
   },
   "outputs": [],
   "source": [
    "ny\n",
    "cds = ny.drop('geometry', 1)"
   ]
  },
  {
   "cell_type": "code",
   "execution_count": null,
   "id": "bec0e040-a98b-42ef-829b-888d3a76e10e",
   "metadata": {
    "gradient": {
     "execution_count": 36,
     "id": "bec0e040-a98b-42ef-829b-888d3a76e10e",
     "kernelId": ""
    }
   },
   "outputs": [],
   "source": [
    "ny.geometry[0]"
   ]
  },
  {
   "cell_type": "code",
   "execution_count": null,
   "id": "2ae8f287-97fe-45c3-a10c-7a39d8033f33",
   "metadata": {
    "gradient": {
     "execution_count": 40,
     "id": "2ae8f287-97fe-45c3-a10c-7a39d8033f33",
     "kernelId": ""
    }
   },
   "outputs": [],
   "source": [
    "fig = px.choropleth(ny,\n",
    "                   geojson=ny['geometry'],\n",
    "                   locations= ny.index,\n",
    "                   color=\"avg_d_kbps\")\n",
    "fig.show()"
   ]
  },
  {
   "cell_type": "code",
   "execution_count": null,
   "id": "c77ed8b0-49b5-4a4e-ae03-4ad59e454bff",
   "metadata": {
    "gradient": {
     "execution_count": 52,
     "id": "c77ed8b0-49b5-4a4e-ae03-4ad59e454bff",
     "kernelId": ""
    }
   },
   "outputs": [],
   "source": [
    "ny = ny.to_crs(epsg=4326)"
   ]
  },
  {
   "cell_type": "code",
   "execution_count": null,
   "id": "9fa8a832-bc43-4f08-b709-c09ff3507b58",
   "metadata": {
    "gradient": {
     "execution_count": 55,
     "id": "9fa8a832-bc43-4f08-b709-c09ff3507b58",
     "kernelId": ""
    }
   },
   "outputs": [],
   "source": [
    "ny.plot(column='avg_d_kbps', scheme='equal_interval', k=4, cmap='OrRd', edgecolor='k', legend=True)\n"
   ]
  },
  {
   "cell_type": "code",
   "execution_count": null,
   "id": "a01b6c3d-9363-4699-b116-3b924fcf3db8",
   "metadata": {
    "gradient": {
     "execution_count": 54,
     "id": "a01b6c3d-9363-4699-b116-3b924fcf3db8",
     "kernelId": ""
    }
   },
   "outputs": [],
   "source": [
    "ny.plot()"
   ]
  },
  {
   "cell_type": "code",
   "execution_count": null,
   "id": "ce49b908-6e29-4290-a77a-358a94330fe5",
   "metadata": {
    "gradient": {
     "execution_count": 77,
     "id": "ce49b908-6e29-4290-a77a-358a94330fe5",
     "kernelId": ""
    }
   },
   "outputs": [],
   "source": [
    "ny.plot()"
   ]
  },
  {
   "cell_type": "code",
   "execution_count": null,
   "id": "95f3ea2b-0089-48a6-b8bf-612630afbabc",
   "metadata": {
    "gradient": {
     "execution_count": 81,
     "id": "95f3ea2b-0089-48a6-b8bf-612630afbabc",
     "kernelId": ""
    }
   },
   "outputs": [],
   "source": [
    "ny = gpd.GeoDataFrame(ny)"
   ]
  },
  {
   "cell_type": "code",
   "execution_count": null,
   "id": "ef217256-6705-47ef-88c2-24ba133aa847",
   "metadata": {
    "gradient": {
     "execution_count": 82,
     "id": "ef217256-6705-47ef-88c2-24ba133aa847",
     "kernelId": ""
    }
   },
   "outputs": [],
   "source": [
    "ny.plot()"
   ]
  },
  {
   "cell_type": "code",
   "execution_count": null,
   "id": "bbd63e43-8321-4f4f-a698-59f420381d35",
   "metadata": {
    "gradient": {
     "execution_count": 83,
     "id": "bbd63e43-8321-4f4f-a698-59f420381d35",
     "kernelId": ""
    }
   },
   "outputs": [],
   "source": [
    "ny.head()"
   ]
  },
  {
   "cell_type": "code",
   "execution_count": null,
   "id": "0d2f9cd1-8dd5-4549-8c84-af587efdc6e2",
   "metadata": {
    "gradient": {
     "execution_count": 84,
     "id": "0d2f9cd1-8dd5-4549-8c84-af587efdc6e2",
     "kernelId": ""
    }
   },
   "outputs": [],
   "source": [
    "ny.info()"
   ]
  },
  {
   "cell_type": "code",
   "execution_count": null,
   "id": "ceafc85b-f64e-4ad5-b357-8296957bcc08",
   "metadata": {
    "gradient": {
     "execution_count": 44,
     "id": "ceafc85b-f64e-4ad5-b357-8296957bcc08",
     "kernelId": ""
    }
   },
   "outputs": [],
   "source": [
    "!pip install folium\n",
    "import folium\n"
   ]
  },
  {
   "cell_type": "code",
   "execution_count": null,
   "id": "2a8860c8-9015-4fe6-b7c9-143a8f64f141",
   "metadata": {
    "gradient": {
     "execution_count": 45,
     "id": "2a8860c8-9015-4fe6-b7c9-143a8f64f141",
     "kernelId": ""
    }
   },
   "outputs": [],
   "source": [
    "folium"
   ]
  },
  {
   "cell_type": "code",
   "execution_count": null,
   "id": "654a2e1d-0f9f-4a4a-baff-410ebd37c1fa",
   "metadata": {
    "gradient": {
     "execution_count": 59,
     "id": "654a2e1d-0f9f-4a4a-baff-410ebd37c1fa",
     "kernelId": ""
    }
   },
   "outputs": [],
   "source": [
    "map1 = folium.Map(location=[40.70, -73.94], zoom_start=6, tiles='CartoDB positron')\n",
    "for _, r in ny.iterrows():\n",
    "    sim_geo = gpd.GeoSeries(r['geometry']).simplify(tolerance=0.001)\n",
    "    geo_j = sim_geo.to_json()\n",
    "    geo_j = folium.GeoJson(data=geo_j,\n",
    "                           style_function=lambda x: {'fillColor': 'orange'})\n",
    "    folium.Popup(r.index).add_to(geo_j)\n",
    "    geo_j.add_to(map1)"
   ]
  },
  {
   "cell_type": "markdown",
   "id": "b8c1c55e-8d66-4338-9b86-53c5d39bd127",
   "metadata": {},
   "source": [
    "# "
   ]
  },
  {
   "cell_type": "markdown",
   "id": "dd42cff9-1bdd-498a-bd97-ed0e982ab946",
   "metadata": {},
   "source": [
    "map1"
   ]
  },
  {
   "cell_type": "code",
   "execution_count": null,
   "id": "65741661-7dc3-4505-8b46-4f754dfd4cfd",
   "metadata": {
    "gradient": {
     "execution_count": 60,
     "id": "65741661-7dc3-4505-8b46-4f754dfd4cfd",
     "kernelId": ""
    }
   },
   "outputs": [],
   "source": [
    "map1"
   ]
  },
  {
   "cell_type": "code",
   "execution_count": null,
   "id": "959c3405-a5f1-4a81-8545-7fb447bd1406",
   "metadata": {
    "gradient": {
     "execution_count": 69,
     "id": "959c3405-a5f1-4a81-8545-7fb447bd1406",
     "kernelId": ""
    }
   },
   "outputs": [],
   "source": [
    "map2 = folium.Map(location=[40.70, -73.94], zoom_start=6, tiles='CartoDB positron')\n",
    "folium.Choropleth(\n",
    "geo_data=ny,\n",
    "data=ny,\n",
    "columns=[ny.index, \"avg_d_kbps\"],\n",
    "fill_color='YlGnBu',\n",
    "fill_opacity=1,\n",
    "line_opacity=0.2,\n",
    "legend_name=\"avg_d_kbps\",\n",
    "smooth_factor=0,\n",
    "Highlight= True,\n",
    "line_color = \"#FFFFF\",\n",
    "name = \"avg_d_kbps\",\n",
    "show=False,\n",
    "overlay=True,\n",
    ").add_to(map2)\n",
    "\n",
    "map2"
   ]
  },
  {
   "cell_type": "code",
   "execution_count": null,
   "id": "236293a1-1c0c-48d7-898b-1381a961563e",
   "metadata": {
    "gradient": {
     "execution_count": 86,
     "id": "236293a1-1c0c-48d7-898b-1381a961563e",
     "kernelId": ""
    }
   },
   "outputs": [],
   "source": [
    "map3 = folium.Map(location=[40.70, -73.94], zoom_start=6, tiles='CartoDB positron')\n",
    "folium.Choropleth(\n",
    "geo_data=ny,\n",
    "data=ny,\n",
    "columns=[ny.index, \"avg_d_kbps\"],\n",
    "fill_color='YlGn',\n",
    "fill_opacity=0.4,\n",
    "line_opacity=1,\n",
    "legend_name=\"avg_d_kbps\",\n",
    "smooth_factor=0,\n",
    "line_color = \"#FFFFFF\",\n",
    "name = \"avg_d_kbps\",\n",
    "show=True,\n",
    "overlay=False,\n",
    "threshold_scale = threshold_scale\n",
    ").add_to(map3)\n",
    "\n",
    "map3"
   ]
  },
  {
   "cell_type": "code",
   "execution_count": null,
   "id": "c3b312e0-6d8f-4ed0-90bf-58b6f4ed8531",
   "metadata": {
    "gradient": {
     "execution_count": 78,
     "id": "c3b312e0-6d8f-4ed0-90bf-58b6f4ed8531",
     "kernelId": ""
    }
   },
   "outputs": [],
   "source": [
    "import numpy as np\n",
    "threshold_scale = np.linspace(ny['avg_d_kbps'].min(),\n",
    "                              ny['avg_d_kbps'].max(), 6, dtype=int).tolist()"
   ]
  },
  {
   "cell_type": "code",
   "execution_count": null,
   "id": "a1bc457b-6303-4ebf-91b9-3d0e7376d129",
   "metadata": {
    "gradient": {
     "execution_count": 83,
     "id": "a1bc457b-6303-4ebf-91b9-3d0e7376d129",
     "kernelId": ""
    }
   },
   "outputs": [],
   "source": [
    "threshold_scale"
   ]
  },
  {
   "cell_type": "code",
   "execution_count": null,
   "id": "f390efae-3e09-4a29-94a2-34b2c66d82e5",
   "metadata": {
    "gradient": {
     "id": "f390efae-3e09-4a29-94a2-34b2c66d82e5",
     "kernelId": ""
    }
   },
   "outputs": [],
   "source": []
  }
 ],
 "metadata": {
  "kernelspec": {
   "display_name": "Python 3",
   "language": "python",
   "name": "python3"
  },
  "language_info": {
   "codemirror_mode": {
    "name": "ipython",
    "version": 3
   },
   "file_extension": ".py",
   "mimetype": "text/x-python",
   "name": "python",
   "nbconvert_exporter": "python",
   "pygments_lexer": "ipython3",
   "version": "3.7.10"
  }
 },
 "nbformat": 4,
 "nbformat_minor": 5
}
